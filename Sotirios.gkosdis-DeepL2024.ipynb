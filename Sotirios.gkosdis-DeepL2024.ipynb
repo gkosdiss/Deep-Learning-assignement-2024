{
 "cells": [
  {
   "cell_type": "markdown",
   "id": "590bb0f6-994e-4ad2-909d-781ff07b05a6",
   "metadata": {},
   "source": [
    " #                                   Final Project Deep Learning with Python\n",
    " ##                                               SoSe2024\n",
    " ###                                           Sotirios Gkosdis                                     \n",
    " ####                                    Sentiment Analysis for Mental Health Issues\n",
    " https://www.kaggle.com/datasets/parulpandey/emotion-dataset/data)"
   ]
  },
  {
   "cell_type": "markdown",
   "id": "51cd7e24-ea0a-4927-b1d4-06d005e40d59",
   "metadata": {},
   "source": [
    "# Static embedding approach"
   ]
  },
  {
   "cell_type": "markdown",
   "id": "abed789e-144f-4338-8ee1-5efc1aabf2bc",
   "metadata": {},
   "source": [
    "The datatet for this task is imbalanced and the goal was the succefull multiclass classification. The static embedding method was approached and there are three models trained and evaluated. One where there is no balance in the data, the next one is the one that wasn't overfitting and the third one is the one that gathered the highest scores. The results are pointed out through the overview of the log information and their metrics, a plot and then with a classification report and its matrix."
   ]
  },
  {
   "cell_type": "code",
   "execution_count": 7,
   "id": "f78dadc1-1ebb-4d1f-9f9f-8130b3b070bf",
   "metadata": {},
   "outputs": [],
   "source": [
    "import keras\n",
    "import pandas as pd\n",
    "import numpy as np\n",
    "import tensorflow as tf\n",
    "import os\n",
    "import nltk\n",
    "import re\n",
    "\n",
    "\n"
   ]
  },
  {
   "cell_type": "code",
   "execution_count": 8,
   "id": "352c74e7-0b77-4b79-a0c0-95ce848bd273",
   "metadata": {},
   "outputs": [],
   "source": [
    "df = pd.read_csv('Combined Data.csv')"
   ]
  },
  {
   "cell_type": "markdown",
   "id": "b27c6867-e32c-4e13-bab6-cb79a0bc60fb",
   "metadata": {},
   "source": [
    "    Here was a problem with actually understanding the statements as the class and it wasnt accepting it as a string. Also there weren't many data-preprocessing tasks to do. While warking with this type of dataset I prefered to keep the punctiuation, because it's playing a semantical role and i didnt proceed to any stemmatization or lemmatization procedures in order not to mess the dataset. Also as I checked the datatset there were plenty emojis which had to be gone. for the static embedding methodology the punctiuation is getting removed from the TextVectorization that we performed for the static embedding it stays as it is. And the emoticon codes from stack-overflow.\n",
    "\n",
    "    After getting to the bert model it cam to my knowledge that there were some 'ascii' characters that should be moved with some double spaces etc.. In a dataset that big its difficult to pay attention any single line with detail."
   ]
  },
  {
   "cell_type": "code",
   "execution_count": 13,
   "id": "c6729e1e-932e-4193-b7c8-31d22ead45c8",
   "metadata": {},
   "outputs": [],
   "source": [
    "def emoji_cleaning(text):\n",
    "    emojis = re.compile(\n",
    "        \"[\"\n",
    "        u\"\\U0001F600-\\U0001F64F\"\n",
    "        u\"\\U0001F300-\\U0001F5FF\"\n",
    "        u\"\\U0001F680-\\U0001F6FF\"\n",
    "        u\"\\U0001F1E0-\\U0001F1FF\"\n",
    "        \"]+\", flags=re.UNICODE)\n",
    "    text = emojis.sub(r'', text)\n",
    "    text = re.sub(r'[â¤ï]', '', text)\n",
    "    return text\n",
    "\n",
    "def data_cleaning(data):\n",
    "    if not isinstance(data, str):\n",
    "        data = str(data)\n",
    "    data = re.sub(r'&amp;[\\w#]+', '', data)\n",
    "    data = re.sub(r'\\s+', ' ', data)\n",
    "    data = emoji_cleaning(data)\n",
    "    data = data.strip()\n",
    "    return data"
   ]
  },
  {
   "cell_type": "markdown",
   "id": "70e66135-91e4-48a6-b9a9-08248c1d865a",
   "metadata": {},
   "source": [
    "    Applying the data cleaning to the dataset"
   ]
  },
  {
   "cell_type": "code",
   "execution_count": 14,
   "id": "509e9aea-970b-4bd7-b340-7a69415392a2",
   "metadata": {
    "tags": []
   },
   "outputs": [
    {
     "name": "stdout",
     "output_type": "stream",
     "text": [
      "       Unnamed: 0                                          statement   status  \\\n",
      "0               0                                         oh my gosh  Anxiety   \n",
      "1               1  trouble sleeping, confused mind, restless hear...  Anxiety   \n",
      "2               2  All wrong, back off dear, forward doubt. Stay ...  Anxiety   \n",
      "3               3  I've shifted my focus to something else but I'...  Anxiety   \n",
      "4               4  I'm restless and restless, it's been a month n...  Anxiety   \n",
      "...           ...                                                ...      ...   \n",
      "53038       53038  Nobody takes me seriously I’ve (24M) dealt wit...  Anxiety   \n",
      "53039       53039  selfishness  \"I don't feel very good, it's lik...  Anxiety   \n",
      "53040       53040  Is there any way to sleep better? I can't slee...  Anxiety   \n",
      "53041       53041  Public speaking tips? Hi, all. I have to give ...  Anxiety   \n",
      "53042       53042  I have really bad door anxiety! It's not about...  Anxiety   \n",
      "\n",
      "                                              clean_data  \n",
      "0                                             oh my gosh  \n",
      "1      trouble sleeping, confused mind, restless hear...  \n",
      "2      All wrong, back off dear, forward doubt. Stay ...  \n",
      "3      I've shifted my focus to something else but I'...  \n",
      "4      I'm restless and restless, it's been a month n...  \n",
      "...                                                  ...  \n",
      "53038  Nobody takes me seriously I’ve (24M) dealt wit...  \n",
      "53039  selfishness \"I don't feel very good, it's like...  \n",
      "53040  Is there any way to sleep better? I can't slee...  \n",
      "53041  Public speaking tips? Hi, all. I have to give ...  \n",
      "53042  I have really bad door anxiety! It's not about...  \n",
      "\n",
      "[53043 rows x 4 columns]\n"
     ]
    }
   ],
   "source": [
    "df['clean_data'] = df['statement'].apply(data_cleaning)\n",
    "print(df)"
   ]
  },
  {
   "cell_type": "markdown",
   "id": "2f9c1235-878f-4534-9aae-f0cee6eba295",
   "metadata": {},
   "source": [
    "    We want to count the values that are in the dataset and as i checked there were empty cells which had to be taken out"
   ]
  },
  {
   "cell_type": "code",
   "execution_count": 15,
   "id": "9c2f9a78-fdda-4ef7-a6b3-14fabd9b98e7",
   "metadata": {},
   "outputs": [],
   "source": [
    "df['status'].value_counts()\n",
    "df = df.dropna(axis= 0)\n"
   ]
  },
  {
   "cell_type": "markdown",
   "id": "3172121c-ce08-4289-a9f2-a244d8154bde",
   "metadata": {},
   "source": [
    "    We now count the unique labels that are in the dataset"
   ]
  },
  {
   "cell_type": "code",
   "execution_count": 16,
   "id": "36784be6-8ce4-43fb-95f9-eb0c07707315",
   "metadata": {
    "tags": []
   },
   "outputs": [
    {
     "data": {
      "text/plain": [
       "7"
      ]
     },
     "execution_count": 16,
     "metadata": {},
     "output_type": "execute_result"
    }
   ],
   "source": [
    "df['status'].nunique()"
   ]
  },
  {
   "cell_type": "markdown",
   "id": "7436e15b-1f8c-49df-9577-86ad87b30769",
   "metadata": {},
   "source": [
    "    We now count the status values in order to use them later manually."
   ]
  },
  {
   "cell_type": "code",
   "execution_count": 17,
   "id": "ff78de76-71a3-491b-a561-0ad3f9a5f3da",
   "metadata": {
    "tags": []
   },
   "outputs": [
    {
     "name": "stdout",
     "output_type": "stream",
     "text": [
      "status\n",
      "Normal                  16343\n",
      "Depression              15404\n",
      "Suicidal                10652\n",
      "Anxiety                  3841\n",
      "Bipolar                  2777\n",
      "Stress                   2587\n",
      "Personality disorder     1077\n",
      "Name: count, dtype: int64\n"
     ]
    }
   ],
   "source": [
    "status_counts=df['status'].value_counts()\n",
    "print(status_counts)"
   ]
  },
  {
   "cell_type": "markdown",
   "id": "d6747c1f-81d1-4686-8494-b1c28d8d60da",
   "metadata": {},
   "source": [
    "    I was struggling to enumerate tha labels automatically so I created a list of all of them and and then enumerate them in a dictionary with a key value relationship. After that we create a new list to the file that stores and maps these relationships and we keep the integers for later on."
   ]
  },
  {
   "cell_type": "code",
   "execution_count": 18,
   "id": "ee6ca6ea-85fd-4664-9b33-e7e161c44d5d",
   "metadata": {},
   "outputs": [],
   "source": [
    "labels = ['Normal', 'Depression', 'Suicidal', 'Anxiety', 'Bipolar', 'Stress', 'Personality disorder']\n",
    "label_dict = {label: idx for idx, label in enumerate(labels)}\n",
    "df['encoded_status'] = df['status'].map(label_dict)\n"
   ]
  },
  {
   "cell_type": "markdown",
   "id": "9e51012a-6774-40d4-aa53-8c6119c8d757",
   "metadata": {},
   "source": [
    "    We use from the keras library the TextVectorization in order to tokenize and vectorize the data automatically together at the same time. Then we vectorize our data"
   ]
  },
  {
   "cell_type": "code",
   "execution_count": 19,
   "id": "96ef83f5-fb0b-4a64-9217-4b09e53cd8d4",
   "metadata": {
    "tags": []
   },
   "outputs": [],
   "source": [
    "from keras.layers import TextVectorization\n",
    "from keras.utils import to_categorical\n",
    "\n",
    "\n",
    "df['clean_data'] = np.vectorize(data_cleaning)(df['statement'])\n",
    "\n"
   ]
  },
  {
   "cell_type": "markdown",
   "id": "29c6c1ad-25fa-4351-9077-4115e05139a2",
   "metadata": {},
   "source": [
    "    From taking the to_categorical from before we categorize the values of the classes. We create a new variable num_classes to use later and we set our parameters for the model. We create an other variable in the end to vectorize the values of statement data  later on. We want everything to turn into an integer. "
   ]
  },
  {
   "cell_type": "code",
   "execution_count": 20,
   "id": "47016063-690d-4e73-adf5-2bc8759774cd",
   "metadata": {},
   "outputs": [],
   "source": [
    "x = df['clean_data']\n",
    "y = df[df.columns[3]].values\n",
    "\n",
    "y = to_categorical(df['encoded_status'].values, num_classes=len(labels))\n",
    "num_classes= len(labels)\n",
    "\n",
    "MAX_WORDS = 20000\n",
    "maxlen = 200\n",
    "vectorizer = TextVectorization(max_tokens=MAX_WORDS, output_sequence_length=maxlen, output_mode='int')\n",
    "vectorizer.adapt(x.values) "
   ]
  },
  {
   "cell_type": "markdown",
   "id": "0b64dcd0-1e2a-4954-8e49-806885726357",
   "metadata": {},
   "source": [
    "    We perform the value vectorization and parsing it to all of  the data to learn the words as numaric variables while tokenixing them  \n",
    "    "
   ]
  },
  {
   "cell_type": "code",
   "execution_count": 21,
   "id": "eebfe87a-12b6-4b91-9bee-f41dc5346b94",
   "metadata": {
    "tags": []
   },
   "outputs": [
    {
     "data": {
      "text/plain": [
       "<tf.Tensor: shape=(52681, 200), dtype=int64, numpy=\n",
       "array([[ 607,    6, 4843, ...,    0,    0,    0],\n",
       "       [ 927,  633,  954, ...,    0,    0,    0],\n",
       "       [  32,  274,   92, ...,    0,    0,    0],\n",
       "       ...,\n",
       "       [  12,   70,   84, ...,    0,    0,    0],\n",
       "       [1267, 1469,  992, ...,    0,    0,    0],\n",
       "       [   2,   13,   59, ...,    0,    0,    0]])>"
      ]
     },
     "execution_count": 21,
     "metadata": {},
     "output_type": "execute_result"
    }
   ],
   "source": [
    "vectorized_data = vectorizer(x.values)\n",
    "vectorized_data"
   ]
  },
  {
   "cell_type": "markdown",
   "id": "d981f0ea-2fc2-4186-9dc3-dc41ea0c1925",
   "metadata": {},
   "source": [
    "    We create a vocabulary for later on to use it for the embeddings and we print the lenght to be sure that everything is alright."
   ]
  },
  {
   "cell_type": "code",
   "execution_count": 22,
   "id": "5a81042f-5a82-477d-9349-e7d45ab53035",
   "metadata": {
    "tags": []
   },
   "outputs": [
    {
     "name": "stdout",
     "output_type": "stream",
     "text": [
      "20000\n"
     ]
    }
   ],
   "source": [
    "vocab = vectorizer.get_vocabulary()\n",
    "print(len(vocab))"
   ]
  },
  {
   "cell_type": "markdown",
   "id": "f99e211b-9206-406a-904b-1302949bf8f6",
   "metadata": {},
   "source": [
    "    We start by genarating random numbers then we create an 1 dimension array of random indices and make it understandable for the model while saving them as tensors"
   ]
  },
  {
   "cell_type": "code",
   "execution_count": 23,
   "id": "c5bb946f-d9b7-4f85-a05e-e4efe1f7eb52",
   "metadata": {},
   "outputs": [
    {
     "name": "stdout",
     "output_type": "stream",
     "text": [
      "tf.Tensor([ 2714 40124 35230 ... 42613 43567  2732], shape=(52681,), dtype=int32)\n"
     ]
    }
   ],
   "source": [
    "np.random.seed(0)\n",
    "indices = np.random.permutation(len(vectorized_data))\n",
    "indices_tensor = tf.constant(indices, dtype=tf.int32)\n",
    "print(indices_tensor)"
   ]
  },
  {
   "cell_type": "markdown",
   "id": "c1da577c-3326-4b79-b571-c596ea1179d4",
   "metadata": {},
   "source": [
    "    In this part we gather the data and distinguish that 80 percent will be the training data an other 10 percent will be the validation data and finally the rest 10 percent will be the test data. After that we split the data for the right categories. And print the to visualize it. "
   ]
  },
  {
   "cell_type": "code",
   "execution_count": 24,
   "id": "6e1ab9dc-2db9-418c-a62a-9ed1cd9ea192",
   "metadata": {
    "tags": []
   },
   "outputs": [
    {
     "name": "stdout",
     "output_type": "stream",
     "text": [
      "Training Data shape : (42144, 200)  and Training labels:  (42144, 7)\n",
      "Validation Data shape : (5268, 200)  and Validation labels:  (5268, 7)\n",
      "Test Data shape : (5269, 200)  and Test labels:  (5269, 7)\n"
     ]
    }
   ],
   "source": [
    "vectorized_data = tf.gather(vectorized_data, indices_tensor)\n",
    "y = tf.gather(y, indices_tensor)\n",
    "\n",
    "train_split = int(0.8 * len(vectorized_data))\n",
    "val_split = int(0.9 * len(vectorized_data))\n",
    "\n",
    "train_data, train_labels = vectorized_data[:train_split], y[:train_split]\n",
    "val_data, val_labels = vectorized_data[train_split:val_split], y[train_split:val_split]\n",
    "test_data, test_labels = vectorized_data[val_split:], y[val_split:]\n",
    "\n",
    "print(\"Training Data shape :\",(train_data.shape), \" and Training labels: \", (train_labels.shape))\n",
    "print(\"Validation Data shape :\",(val_data.shape), \" and Validation labels: \", (val_labels.shape))\n",
    "print(\"Test Data shape :\",(test_data.shape), \" and Test labels: \", (test_labels.shape))"
   ]
  },
  {
   "cell_type": "markdown",
   "id": "adac961b-0364-47f2-b006-46e572498493",
   "metadata": {},
   "source": [
    "    This part as well as the next one i got them both from the slides. The real question was how many dimentions should i put in order not to make the model too complex nor too naive. i ve train the model with all the dimentions and almost all the possible scenarios that I could think in order to get the best results for the model. With this amount of dimentions I believe that are good and reasonable at the classification report.\n",
    "    The emdeddings that I worked with were from Glove, the Wikipedia 2014 200 dimentions ones. Creating an empty dictionary we tell to our model then to store that in the first line we have the word and the rest are the embeddings for each word which are later saved in the dictionary."
   ]
  },
  {
   "cell_type": "code",
   "execution_count": 25,
   "id": "9d56e132-854a-49dc-864b-0323f9c45d32",
   "metadata": {},
   "outputs": [
    {
     "name": "stdout",
     "output_type": "stream",
     "text": [
      "Found 400000 word vectors.\n"
     ]
    }
   ],
   "source": [
    "glove_dir = 'compLing/students/courses/deepLearning24/finalProjects/sotirios.gkosdis/glove.6B.200d.txt'\n",
    "\n",
    "embeddings_index = {}\n",
    "with open(glove_dir, 'r', encoding='utf-8') as f:\n",
    "    for line in f:\n",
    "        values = line.split()\n",
    "        word = values[0]\n",
    "        coefs = np.asarray(values[1:], dtype='float32')\n",
    "        embeddings_index[word] = coefs\n",
    "f.close()\n",
    "\n",
    "print('Found %s word vectors.' % len(embeddings_index))"
   ]
  },
  {
   "cell_type": "markdown",
   "id": "1b31517a-9bac-4298-8ff3-29a5eea084b0",
   "metadata": {},
   "source": [
    "    We then create an other dictionaru for mapping the tokens to the right embedding. Since the dimentions of the embeddings that we added are 200 we have to declare it to our model. We then create an empty matrix to parse the embeddings to the vocabulary."
   ]
  },
  {
   "cell_type": "code",
   "execution_count": 26,
   "id": "a94325f1-2ff1-4bff-9d8d-fade50709464",
   "metadata": {},
   "outputs": [],
   "source": [
    "word_index = dict(zip(vocab, range(len(vocab))))\n",
    "embedding_dim = 200\n",
    "\n",
    "embedding_matrix = np.zeros((len(vocab), embedding_dim))\n",
    "for word, i in word_index.items():\n",
    "    embedding_vector = embeddings_index.get(word)\n",
    "    if i < len(vocab):\n",
    "        if embedding_vector is not None:\n",
    "            embedding_matrix[i] = embedding_vector"
   ]
  },
  {
   "cell_type": "markdown",
   "id": "2bcbd013-b04d-4014-9eb7-817a46e2f67a",
   "metadata": {},
   "source": [
    "    Since we saw the values from our labels we know that the model is probably going to overfit and the the predictions that is going to make are going to be biased. we create a Sequential model since its multiclass and not multilabel to need the model to predict more than one output. We parse the embeddings, the maximum number of words and provide it with an LSTM layer with 64 units. we perform categorical crossentropy as well we did to our other models because of the type of the classification we have. We use Adam as the optimizer as well to the other models because it's helping to reduce the validation loss in the evaluation."
   ]
  },
  {
   "cell_type": "code",
   "execution_count": 27,
   "id": "d97d3e08-2779-4950-8f41-e578bd5b9c4e",
   "metadata": {
    "tags": []
   },
   "outputs": [
    {
     "name": "stdout",
     "output_type": "stream",
     "text": [
      "Epoch 1/10\n"
     ]
    },
    {
     "name": "stderr",
     "output_type": "stream",
     "text": [
      "/opt/anaconda3/envs/myenv/lib/python3.9/site-packages/keras/src/layers/core/embedding.py:90: UserWarning: Argument `input_length` is deprecated. Just remove it.\n",
      "  warnings.warn(\n"
     ]
    },
    {
     "name": "stdout",
     "output_type": "stream",
     "text": [
      "\u001b[1m659/659\u001b[0m \u001b[32m━━━━━━━━━━━━━━━━━━━━\u001b[0m\u001b[37m\u001b[0m \u001b[1m63s\u001b[0m 94ms/step - accuracy: 0.4256 - loss: 1.5257 - val_accuracy: 0.5676 - val_loss: 1.1337\n",
      "Epoch 2/10\n",
      "\u001b[1m659/659\u001b[0m \u001b[32m━━━━━━━━━━━━━━━━━━━━\u001b[0m\u001b[37m\u001b[0m \u001b[1m63s\u001b[0m 96ms/step - accuracy: 0.5899 - loss: 1.0035 - val_accuracy: 0.6595 - val_loss: 0.8173\n",
      "Epoch 3/10\n",
      "\u001b[1m659/659\u001b[0m \u001b[32m━━━━━━━━━━━━━━━━━━━━\u001b[0m\u001b[37m\u001b[0m \u001b[1m63s\u001b[0m 96ms/step - accuracy: 0.7027 - loss: 0.7181 - val_accuracy: 0.7025 - val_loss: 0.7507\n",
      "Epoch 4/10\n",
      "\u001b[1m659/659\u001b[0m \u001b[32m━━━━━━━━━━━━━━━━━━━━\u001b[0m\u001b[37m\u001b[0m \u001b[1m65s\u001b[0m 98ms/step - accuracy: 0.7778 - loss: 0.5786 - val_accuracy: 0.7202 - val_loss: 0.7265\n",
      "Epoch 5/10\n",
      "\u001b[1m659/659\u001b[0m \u001b[32m━━━━━━━━━━━━━━━━━━━━\u001b[0m\u001b[37m\u001b[0m \u001b[1m64s\u001b[0m 97ms/step - accuracy: 0.8562 - loss: 0.4048 - val_accuracy: 0.7565 - val_loss: 0.6832\n",
      "Epoch 6/10\n",
      "\u001b[1m659/659\u001b[0m \u001b[32m━━━━━━━━━━━━━━━━━━━━\u001b[0m\u001b[37m\u001b[0m \u001b[1m64s\u001b[0m 98ms/step - accuracy: 0.8991 - loss: 0.2975 - val_accuracy: 0.7585 - val_loss: 0.7291\n",
      "Epoch 7/10\n",
      "\u001b[1m659/659\u001b[0m \u001b[32m━━━━━━━━━━━━━━━━━━━━\u001b[0m\u001b[37m\u001b[0m \u001b[1m65s\u001b[0m 98ms/step - accuracy: 0.9289 - loss: 0.2209 - val_accuracy: 0.7464 - val_loss: 0.8036\n",
      "Epoch 8/10\n",
      "\u001b[1m659/659\u001b[0m \u001b[32m━━━━━━━━━━━━━━━━━━━━\u001b[0m\u001b[37m\u001b[0m \u001b[1m65s\u001b[0m 98ms/step - accuracy: 0.9475 - loss: 0.1643 - val_accuracy: 0.7405 - val_loss: 0.8415\n",
      "Epoch 9/10\n",
      "\u001b[1m659/659\u001b[0m \u001b[32m━━━━━━━━━━━━━━━━━━━━\u001b[0m\u001b[37m\u001b[0m \u001b[1m65s\u001b[0m 99ms/step - accuracy: 0.9583 - loss: 0.1323 - val_accuracy: 0.7388 - val_loss: 0.9591\n",
      "Epoch 10/10\n",
      "\u001b[1m659/659\u001b[0m \u001b[32m━━━━━━━━━━━━━━━━━━━━\u001b[0m\u001b[37m\u001b[0m \u001b[1m65s\u001b[0m 99ms/step - accuracy: 0.9667 - loss: 0.1081 - val_accuracy: 0.7407 - val_loss: 1.0534\n",
      "\u001b[1m165/165\u001b[0m \u001b[32m━━━━━━━━━━━━━━━━━━━━\u001b[0m\u001b[37m\u001b[0m \u001b[1m3s\u001b[0m 17ms/step - accuracy: 0.7471 - loss: 1.0171\n",
      "Test accuracy:  0.7498576641082764\n"
     ]
    },
    {
     "data": {
      "text/html": [
       "<pre style=\"white-space:pre;overflow-x:auto;line-height:normal;font-family:Menlo,'DejaVu Sans Mono',consolas,'Courier New',monospace\"><span style=\"font-weight: bold\">Model: \"sequential\"</span>\n",
       "</pre>\n"
      ],
      "text/plain": [
       "\u001b[1mModel: \"sequential\"\u001b[0m\n"
      ]
     },
     "metadata": {},
     "output_type": "display_data"
    },
    {
     "data": {
      "text/html": [
       "<pre style=\"white-space:pre;overflow-x:auto;line-height:normal;font-family:Menlo,'DejaVu Sans Mono',consolas,'Courier New',monospace\">┏━━━━━━━━━━━━━━━━━━━━━━━━━━━━━━━━━┳━━━━━━━━━━━━━━━━━━━━━━━━┳━━━━━━━━━━━━━━━┓\n",
       "┃<span style=\"font-weight: bold\"> Layer (type)                    </span>┃<span style=\"font-weight: bold\"> Output Shape           </span>┃<span style=\"font-weight: bold\">       Param # </span>┃\n",
       "┡━━━━━━━━━━━━━━━━━━━━━━━━━━━━━━━━━╇━━━━━━━━━━━━━━━━━━━━━━━━╇━━━━━━━━━━━━━━━┩\n",
       "│ embedding (<span style=\"color: #0087ff; text-decoration-color: #0087ff\">Embedding</span>)           │ (<span style=\"color: #00d7ff; text-decoration-color: #00d7ff\">None</span>, <span style=\"color: #00af00; text-decoration-color: #00af00\">200</span>, <span style=\"color: #00af00; text-decoration-color: #00af00\">200</span>)       │     <span style=\"color: #00af00; text-decoration-color: #00af00\">4,000,000</span> │\n",
       "├─────────────────────────────────┼────────────────────────┼───────────────┤\n",
       "│ lstm (<span style=\"color: #0087ff; text-decoration-color: #0087ff\">LSTM</span>)                     │ (<span style=\"color: #00d7ff; text-decoration-color: #00d7ff\">None</span>, <span style=\"color: #00af00; text-decoration-color: #00af00\">64</span>)             │        <span style=\"color: #00af00; text-decoration-color: #00af00\">67,840</span> │\n",
       "├─────────────────────────────────┼────────────────────────┼───────────────┤\n",
       "│ dense (<span style=\"color: #0087ff; text-decoration-color: #0087ff\">Dense</span>)                   │ (<span style=\"color: #00d7ff; text-decoration-color: #00d7ff\">None</span>, <span style=\"color: #00af00; text-decoration-color: #00af00\">7</span>)              │           <span style=\"color: #00af00; text-decoration-color: #00af00\">455</span> │\n",
       "└─────────────────────────────────┴────────────────────────┴───────────────┘\n",
       "</pre>\n"
      ],
      "text/plain": [
       "┏━━━━━━━━━━━━━━━━━━━━━━━━━━━━━━━━━┳━━━━━━━━━━━━━━━━━━━━━━━━┳━━━━━━━━━━━━━━━┓\n",
       "┃\u001b[1m \u001b[0m\u001b[1mLayer (type)                   \u001b[0m\u001b[1m \u001b[0m┃\u001b[1m \u001b[0m\u001b[1mOutput Shape          \u001b[0m\u001b[1m \u001b[0m┃\u001b[1m \u001b[0m\u001b[1m      Param #\u001b[0m\u001b[1m \u001b[0m┃\n",
       "┡━━━━━━━━━━━━━━━━━━━━━━━━━━━━━━━━━╇━━━━━━━━━━━━━━━━━━━━━━━━╇━━━━━━━━━━━━━━━┩\n",
       "│ embedding (\u001b[38;5;33mEmbedding\u001b[0m)           │ (\u001b[38;5;45mNone\u001b[0m, \u001b[38;5;34m200\u001b[0m, \u001b[38;5;34m200\u001b[0m)       │     \u001b[38;5;34m4,000,000\u001b[0m │\n",
       "├─────────────────────────────────┼────────────────────────┼───────────────┤\n",
       "│ lstm (\u001b[38;5;33mLSTM\u001b[0m)                     │ (\u001b[38;5;45mNone\u001b[0m, \u001b[38;5;34m64\u001b[0m)             │        \u001b[38;5;34m67,840\u001b[0m │\n",
       "├─────────────────────────────────┼────────────────────────┼───────────────┤\n",
       "│ dense (\u001b[38;5;33mDense\u001b[0m)                   │ (\u001b[38;5;45mNone\u001b[0m, \u001b[38;5;34m7\u001b[0m)              │           \u001b[38;5;34m455\u001b[0m │\n",
       "└─────────────────────────────────┴────────────────────────┴───────────────┘\n"
      ]
     },
     "metadata": {},
     "output_type": "display_data"
    },
    {
     "data": {
      "text/html": [
       "<pre style=\"white-space:pre;overflow-x:auto;line-height:normal;font-family:Menlo,'DejaVu Sans Mono',consolas,'Courier New',monospace\"><span style=\"font-weight: bold\"> Total params: </span><span style=\"color: #00af00; text-decoration-color: #00af00\">12,204,887</span> (46.56 MB)\n",
       "</pre>\n"
      ],
      "text/plain": [
       "\u001b[1m Total params: \u001b[0m\u001b[38;5;34m12,204,887\u001b[0m (46.56 MB)\n"
      ]
     },
     "metadata": {},
     "output_type": "display_data"
    },
    {
     "data": {
      "text/html": [
       "<pre style=\"white-space:pre;overflow-x:auto;line-height:normal;font-family:Menlo,'DejaVu Sans Mono',consolas,'Courier New',monospace\"><span style=\"font-weight: bold\"> Trainable params: </span><span style=\"color: #00af00; text-decoration-color: #00af00\">4,068,295</span> (15.52 MB)\n",
       "</pre>\n"
      ],
      "text/plain": [
       "\u001b[1m Trainable params: \u001b[0m\u001b[38;5;34m4,068,295\u001b[0m (15.52 MB)\n"
      ]
     },
     "metadata": {},
     "output_type": "display_data"
    },
    {
     "data": {
      "text/html": [
       "<pre style=\"white-space:pre;overflow-x:auto;line-height:normal;font-family:Menlo,'DejaVu Sans Mono',consolas,'Courier New',monospace\"><span style=\"font-weight: bold\"> Non-trainable params: </span><span style=\"color: #00af00; text-decoration-color: #00af00\">0</span> (0.00 B)\n",
       "</pre>\n"
      ],
      "text/plain": [
       "\u001b[1m Non-trainable params: \u001b[0m\u001b[38;5;34m0\u001b[0m (0.00 B)\n"
      ]
     },
     "metadata": {},
     "output_type": "display_data"
    },
    {
     "data": {
      "text/html": [
       "<pre style=\"white-space:pre;overflow-x:auto;line-height:normal;font-family:Menlo,'DejaVu Sans Mono',consolas,'Courier New',monospace\"><span style=\"font-weight: bold\"> Optimizer params: </span><span style=\"color: #00af00; text-decoration-color: #00af00\">8,136,592</span> (31.04 MB)\n",
       "</pre>\n"
      ],
      "text/plain": [
       "\u001b[1m Optimizer params: \u001b[0m\u001b[38;5;34m8,136,592\u001b[0m (31.04 MB)\n"
      ]
     },
     "metadata": {},
     "output_type": "display_data"
    }
   ],
   "source": [
    "from keras.layers import Embedding, Dense, LSTM\n",
    "from keras.models import Sequential\n",
    "from keras.losses import CategoricalCrossentropy\n",
    "from keras.utils import to_categorical\n",
    "\n",
    "model = Sequential()\n",
    "\n",
    "model.add(Embedding(MAX_WORDS, embedding_dim, input_length=maxlen))\n",
    "model.add(LSTM(64))\n",
    "model.add(Dense(num_classes, activation='softmax'))\n",
    "\n",
    "model.compile(optimizer='adam', loss='categorical_crossentropy', metrics=['accuracy'])\n",
    "\n",
    "history = model.fit(train_data, train_labels, epochs=10, batch_size=64, validation_data=(val_data, val_labels))\n",
    "\n",
    "test_loss, test_acc = model.evaluate(test_data, test_labels)\n",
    "print('Test accuracy: ', test_acc)\n",
    "\n",
    "model.summary()\n"
   ]
  },
  {
   "cell_type": "markdown",
   "id": "3c3b06ab-ee7d-4e65-ac31-d0fabb65ff98",
   "metadata": {},
   "source": [
    "    Using the plot that was given from the class but changing the colours only for better visualization, we understand that, this model seems to be overfitting. We observe that the accuracy of the training data is getting high but the accuracy of the test data is much lower in the final epoch. It's being observed that the overfitting starts from the Epoch 6. Althought the accuracy from the first expirement isn't the best, they were expected because the dataset is imbalanced."
   ]
  },
  {
   "cell_type": "code",
   "execution_count": 28,
   "id": "7f8bae1d-e3b7-4a30-acaa-96ea4cbfda9e",
   "metadata": {
    "tags": []
   },
   "outputs": [
    {
     "data": {
      "image/png": "[encoded data removed]",
      "text/plain": [
       "<Figure size 640x480 with 1 Axes>"
      ]
     },
     "metadata": {},
     "output_type": "display_data"
    },
    {
     "data": {
      "image/png": "[encoded data removed]",
      "text/plain": [
       "<Figure size 640x480 with 1 Axes>"
      ]
     },
     "metadata": {},
     "output_type": "display_data"
    }
   ],
   "source": [
    "import matplotlib.pyplot as plt\n",
    "\n",
    "acc = history.history['accuracy']\n",
    "val_acc = history.history['val_accuracy']\n",
    "loss = history.history['loss']\n",
    "val_loss = history.history['val_loss']\n",
    "\n",
    "epochs = range(1, len(acc) + 1)\n",
    "\n",
    "plt.plot(epochs, acc, 'y-', label='Training acc')\n",
    "plt.plot(epochs, val_acc, 'r-', label='Validation acc')\n",
    "plt.title('Training and validation accuracy with one LSTM')\n",
    "plt.legend()\n",
    "\n",
    "plt.figure()\n",
    "\n",
    "plt.plot(epochs, loss, 'y-', label='Training loss')\n",
    "plt.plot(epochs, val_loss, 'r-', label='Validation loss')\n",
    "plt.title('Training and validation loss with one LSTM')\n",
    "plt.legend()\n",
    "\n",
    "plt.show()"
   ]
  },
  {
   "cell_type": "markdown",
   "id": "47139c61-fccd-4311-9b29-5649e373e79a",
   "metadata": {},
   "source": [
    "    The classification report isn't doing well confution matrix shows that its right, despite the discent accuracy it seems that the predictions are biased and in classes with more samples it seems to be doing fine and in classes with less its performing poorely. This means that it tends to missclasiffy the test results and make false predictions for untrained classes."
   ]
  },
  {
   "cell_type": "code",
   "execution_count": 29,
   "id": "744155aa-ed18-4b93-befd-d28db6a12946",
   "metadata": {
    "tags": []
   },
   "outputs": [
    {
     "name": "stdout",
     "output_type": "stream",
     "text": [
      "\u001b[1m165/165\u001b[0m \u001b[32m━━━━━━━━━━━━━━━━━━━━\u001b[0m\u001b[37m\u001b[0m \u001b[1m3s\u001b[0m 19ms/step\n",
      "              precision    recall  f1-score   support\n",
      "\n",
      "           0       0.91      0.92      0.92      1663\n",
      "           1       0.70      0.68      0.69      1531\n",
      "           2       0.64      0.64      0.64      1051\n",
      "           3       0.71      0.80      0.75       396\n",
      "           4       0.77      0.79      0.78       247\n",
      "           5       0.56      0.53      0.54       265\n",
      "           6       0.55      0.47      0.50       116\n",
      "\n",
      "    accuracy                           0.75      5269\n",
      "   macro avg       0.69      0.69      0.69      5269\n",
      "weighted avg       0.75      0.75      0.75      5269\n",
      "\n",
      "[[1537   33   21   28    4   32    8]\n",
      " [  47 1035  347   22   30   32   18]\n",
      " [  41  323  674    3    2    5    3]\n",
      " [  19   23    1  315   12   23    3]\n",
      " [   3   16    2   20  195    4    7]\n",
      " [  40   26    5   46    2  141    5]\n",
      " [   7   19    1   10    9   16   54]]\n"
     ]
    }
   ],
   "source": [
    "from sklearn.metrics import classification_report, confusion_matrix\n",
    "\n",
    "predictions = model.predict(test_data)\n",
    "predicted_classes = np.argmax(predictions, axis=1)\n",
    "\n",
    "true_classes = np.argmax(test_labels, axis=1)\n",
    "\n",
    "print(classification_report(true_classes, predicted_classes))\n",
    "\n",
    "print(confusion_matrix(true_classes, predicted_classes))"
   ]
  },
  {
   "cell_type": "markdown",
   "id": "4eaefaec-bb40-4406-9819-f67e5d063fa9",
   "metadata": {},
   "source": [
    "     We reshape the model for visualization."
   ]
  },
  {
   "cell_type": "code",
   "execution_count": 30,
   "id": "576fc590-3fed-4298-aff0-7c24ab50b717",
   "metadata": {},
   "outputs": [
    {
     "data": {
      "text/plain": [
       "(TensorShape([42144, 200]), TensorShape([42144, 7]))"
      ]
     },
     "execution_count": 30,
     "metadata": {},
     "output_type": "execute_result"
    }
   ],
   "source": [
    "train_data.shape, train_labels.shape"
   ]
  },
  {
   "cell_type": "markdown",
   "id": "86f86d8e-e982-4a95-88a9-6c534d9c4bde",
   "metadata": {},
   "source": [
    "    We import sklearn to compute the weights for the classes in order not to be missbalanced. I experimented with different methods using, oversampling, undersamling and hybrid sampling, ending to the conclustion that this is the most reasonable solution for our dataset and the numbers we have in different classes. \n",
    "    I created an variable for storing the unique classes for each label. then we map the varaibles to the weights, we sort it to have it tied up and print the result. We will perform it to the next model as well."
   ]
  },
  {
   "cell_type": "code",
   "execution_count": 31,
   "id": "64d70716-028a-4dc4-912e-4c62155cf8e6",
   "metadata": {},
   "outputs": [
    {
     "name": "stdout",
     "output_type": "stream",
     "text": [
      "{0: 0.4604942264490695, 1: 0.48856512223170234, 2: 0.7065205729306367, 3: 1.9593483839773869, 4: 2.710067390297855, 5: 2.909105969407477, 6: 6.987796790025202}\n"
     ]
    }
   ],
   "source": [
    "from sklearn.utils.class_weight import compute_class_weight\n",
    "\n",
    "class_weights = compute_class_weight('balanced',\n",
    "                                     classes=np.unique(df['status']),\n",
    "                                     y=df['status'].values)\n",
    "class_weights_dict = {i : class_weights[i] for i in range(len(np.unique(df['status'])))}\n",
    "\n",
    "class_weights.sort()\n",
    "class_weights\n",
    "class_weights = dict(enumerate(class_weights))\n",
    "\n",
    "print(class_weights)"
   ]
  },
  {
   "cell_type": "markdown",
   "id": "7c7c0f14-5e38-4fe1-9c86-686f22cd5bb8",
   "metadata": {},
   "source": [
    "    For this example we tried every single sollution that we could in order not to overfit. Untill Epoch 9 wich was the less vallidation loss the model was the only one not overfitting but the performance in both metrics and Classicication report i super poor. we added dropout both to embeddings layer and to the model one. We applied the l2 regulazer in order to generalize even more adn we increased the models complexity. But It wasnt enough. After some epochs the model was overfitting and the performanc ewas still lower than the one from the training set.\n",
    "    for this occation we also included the weight from before in order not to let the model make biased decisions and create a balance. for this occation it wasn't proven. "
   ]
  },
  {
   "cell_type": "code",
   "execution_count": 32,
   "id": "9e197308-bc7e-480e-9d13-1ca139f10350",
   "metadata": {
    "tags": []
   },
   "outputs": [
    {
     "name": "stdout",
     "output_type": "stream",
     "text": [
      "Epoch 1/10\n"
     ]
    },
    {
     "name": "stderr",
     "output_type": "stream",
     "text": [
      "/opt/anaconda3/envs/myenv/lib/python3.9/site-packages/keras/src/layers/core/embedding.py:90: UserWarning: Argument `input_length` is deprecated. Just remove it.\n",
      "  warnings.warn(\n"
     ]
    },
    {
     "name": "stdout",
     "output_type": "stream",
     "text": [
      "\u001b[1m659/659\u001b[0m \u001b[32m━━━━━━━━━━━━━━━━━━━━\u001b[0m\u001b[37m\u001b[0m \u001b[1m120s\u001b[0m 180ms/step - accuracy: 0.2818 - loss: 2.3780 - val_accuracy: 0.3605 - val_loss: 1.8554\n",
      "Epoch 2/10\n",
      "\u001b[1m659/659\u001b[0m \u001b[32m━━━━━━━━━━━━━━━━━━━━\u001b[0m\u001b[37m\u001b[0m \u001b[1m119s\u001b[0m 181ms/step - accuracy: 0.2341 - loss: 1.9346 - val_accuracy: 0.3286 - val_loss: 1.8840\n",
      "Epoch 3/10\n",
      "\u001b[1m659/659\u001b[0m \u001b[32m━━━━━━━━━━━━━━━━━━━━\u001b[0m\u001b[37m\u001b[0m \u001b[1m119s\u001b[0m 181ms/step - accuracy: 0.2539 - loss: 1.9140 - val_accuracy: 0.3404 - val_loss: 1.5418\n",
      "Epoch 4/10\n",
      "\u001b[1m659/659\u001b[0m \u001b[32m━━━━━━━━━━━━━━━━━━━━\u001b[0m\u001b[37m\u001b[0m \u001b[1m118s\u001b[0m 179ms/step - accuracy: 0.3486 - loss: 1.7177 - val_accuracy: 0.3254 - val_loss: 1.5190\n",
      "Epoch 5/10\n",
      "\u001b[1m659/659\u001b[0m \u001b[32m━━━━━━━━━━━━━━━━━━━━\u001b[0m\u001b[37m\u001b[0m \u001b[1m119s\u001b[0m 181ms/step - accuracy: 0.3392 - loss: 1.6773 - val_accuracy: 0.3244 - val_loss: 1.5455\n",
      "Epoch 6/10\n",
      "\u001b[1m659/659\u001b[0m \u001b[32m━━━━━━━━━━━━━━━━━━━━\u001b[0m\u001b[37m\u001b[0m \u001b[1m119s\u001b[0m 181ms/step - accuracy: 0.3573 - loss: 1.6495 - val_accuracy: 0.4675 - val_loss: 1.3708\n",
      "Epoch 7/10\n",
      "\u001b[1m659/659\u001b[0m \u001b[32m━━━━━━━━━━━━━━━━━━━━\u001b[0m\u001b[37m\u001b[0m \u001b[1m119s\u001b[0m 181ms/step - accuracy: 0.5054 - loss: 1.4233 - val_accuracy: 0.5729 - val_loss: 1.0859\n",
      "Epoch 8/10\n",
      "\u001b[1m659/659\u001b[0m \u001b[32m━━━━━━━━━━━━━━━━━━━━\u001b[0m\u001b[37m\u001b[0m \u001b[1m119s\u001b[0m 180ms/step - accuracy: 0.6031 - loss: 1.0822 - val_accuracy: 0.6198 - val_loss: 0.9054\n",
      "Epoch 9/10\n",
      "\u001b[1m659/659\u001b[0m \u001b[32m━━━━━━━━━━━━━━━━━━━━\u001b[0m\u001b[37m\u001b[0m \u001b[1m119s\u001b[0m 181ms/step - accuracy: 0.6370 - loss: 0.8911 - val_accuracy: 0.6336 - val_loss: 0.8854\n",
      "Epoch 10/10\n",
      "\u001b[1m659/659\u001b[0m \u001b[32m━━━━━━━━━━━━━━━━━━━━\u001b[0m\u001b[37m\u001b[0m \u001b[1m118s\u001b[0m 178ms/step - accuracy: 0.6548 - loss: 0.7700 - val_accuracy: 0.6321 - val_loss: 0.8959\n",
      "Restoring model weights from the end of the best epoch: 9.\n",
      "\u001b[1m165/165\u001b[0m \u001b[32m━━━━━━━━━━━━━━━━━━━━\u001b[0m\u001b[37m\u001b[0m \u001b[1m7s\u001b[0m 40ms/step - accuracy: 0.6318 - loss: 0.8830\n",
      "Test accuracy:  0.6318086981773376\n"
     ]
    },
    {
     "data": {
      "text/html": [
       "<pre style=\"white-space:pre;overflow-x:auto;line-height:normal;font-family:Menlo,'DejaVu Sans Mono',consolas,'Courier New',monospace\"><span style=\"font-weight: bold\">Model: \"sequential_1\"</span>\n",
       "</pre>\n"
      ],
      "text/plain": [
       "\u001b[1mModel: \"sequential_1\"\u001b[0m\n"
      ]
     },
     "metadata": {},
     "output_type": "display_data"
    },
    {
     "data": {
      "text/html": [
       "<pre style=\"white-space:pre;overflow-x:auto;line-height:normal;font-family:Menlo,'DejaVu Sans Mono',consolas,'Courier New',monospace\">┏━━━━━━━━━━━━━━━━━━━━━━━━━━━━━━━━━┳━━━━━━━━━━━━━━━━━━━━━━━━┳━━━━━━━━━━━━━━━┓\n",
       "┃<span style=\"font-weight: bold\"> Layer (type)                    </span>┃<span style=\"font-weight: bold\"> Output Shape           </span>┃<span style=\"font-weight: bold\">       Param # </span>┃\n",
       "┡━━━━━━━━━━━━━━━━━━━━━━━━━━━━━━━━━╇━━━━━━━━━━━━━━━━━━━━━━━━╇━━━━━━━━━━━━━━━┩\n",
       "│ embedding_1 (<span style=\"color: #0087ff; text-decoration-color: #0087ff\">Embedding</span>)         │ (<span style=\"color: #00d7ff; text-decoration-color: #00d7ff\">None</span>, <span style=\"color: #00af00; text-decoration-color: #00af00\">200</span>, <span style=\"color: #00af00; text-decoration-color: #00af00\">200</span>)       │     <span style=\"color: #00af00; text-decoration-color: #00af00\">4,000,000</span> │\n",
       "├─────────────────────────────────┼────────────────────────┼───────────────┤\n",
       "│ dropout (<span style=\"color: #0087ff; text-decoration-color: #0087ff\">Dropout</span>)               │ (<span style=\"color: #00d7ff; text-decoration-color: #00d7ff\">None</span>, <span style=\"color: #00af00; text-decoration-color: #00af00\">200</span>, <span style=\"color: #00af00; text-decoration-color: #00af00\">200</span>)       │             <span style=\"color: #00af00; text-decoration-color: #00af00\">0</span> │\n",
       "├─────────────────────────────────┼────────────────────────┼───────────────┤\n",
       "│ lstm_1 (<span style=\"color: #0087ff; text-decoration-color: #0087ff\">LSTM</span>)                   │ (<span style=\"color: #00d7ff; text-decoration-color: #00d7ff\">None</span>, <span style=\"color: #00af00; text-decoration-color: #00af00\">128</span>)            │       <span style=\"color: #00af00; text-decoration-color: #00af00\">168,448</span> │\n",
       "├─────────────────────────────────┼────────────────────────┼───────────────┤\n",
       "│ dropout_1 (<span style=\"color: #0087ff; text-decoration-color: #0087ff\">Dropout</span>)             │ (<span style=\"color: #00d7ff; text-decoration-color: #00d7ff\">None</span>, <span style=\"color: #00af00; text-decoration-color: #00af00\">128</span>)            │             <span style=\"color: #00af00; text-decoration-color: #00af00\">0</span> │\n",
       "├─────────────────────────────────┼────────────────────────┼───────────────┤\n",
       "│ dense_1 (<span style=\"color: #0087ff; text-decoration-color: #0087ff\">Dense</span>)                 │ (<span style=\"color: #00d7ff; text-decoration-color: #00d7ff\">None</span>, <span style=\"color: #00af00; text-decoration-color: #00af00\">7</span>)              │           <span style=\"color: #00af00; text-decoration-color: #00af00\">903</span> │\n",
       "└─────────────────────────────────┴────────────────────────┴───────────────┘\n",
       "</pre>\n"
      ],
      "text/plain": [
       "┏━━━━━━━━━━━━━━━━━━━━━━━━━━━━━━━━━┳━━━━━━━━━━━━━━━━━━━━━━━━┳━━━━━━━━━━━━━━━┓\n",
       "┃\u001b[1m \u001b[0m\u001b[1mLayer (type)                   \u001b[0m\u001b[1m \u001b[0m┃\u001b[1m \u001b[0m\u001b[1mOutput Shape          \u001b[0m\u001b[1m \u001b[0m┃\u001b[1m \u001b[0m\u001b[1m      Param #\u001b[0m\u001b[1m \u001b[0m┃\n",
       "┡━━━━━━━━━━━━━━━━━━━━━━━━━━━━━━━━━╇━━━━━━━━━━━━━━━━━━━━━━━━╇━━━━━━━━━━━━━━━┩\n",
       "│ embedding_1 (\u001b[38;5;33mEmbedding\u001b[0m)         │ (\u001b[38;5;45mNone\u001b[0m, \u001b[38;5;34m200\u001b[0m, \u001b[38;5;34m200\u001b[0m)       │     \u001b[38;5;34m4,000,000\u001b[0m │\n",
       "├─────────────────────────────────┼────────────────────────┼───────────────┤\n",
       "│ dropout (\u001b[38;5;33mDropout\u001b[0m)               │ (\u001b[38;5;45mNone\u001b[0m, \u001b[38;5;34m200\u001b[0m, \u001b[38;5;34m200\u001b[0m)       │             \u001b[38;5;34m0\u001b[0m │\n",
       "├─────────────────────────────────┼────────────────────────┼───────────────┤\n",
       "│ lstm_1 (\u001b[38;5;33mLSTM\u001b[0m)                   │ (\u001b[38;5;45mNone\u001b[0m, \u001b[38;5;34m128\u001b[0m)            │       \u001b[38;5;34m168,448\u001b[0m │\n",
       "├─────────────────────────────────┼────────────────────────┼───────────────┤\n",
       "│ dropout_1 (\u001b[38;5;33mDropout\u001b[0m)             │ (\u001b[38;5;45mNone\u001b[0m, \u001b[38;5;34m128\u001b[0m)            │             \u001b[38;5;34m0\u001b[0m │\n",
       "├─────────────────────────────────┼────────────────────────┼───────────────┤\n",
       "│ dense_1 (\u001b[38;5;33mDense\u001b[0m)                 │ (\u001b[38;5;45mNone\u001b[0m, \u001b[38;5;34m7\u001b[0m)              │           \u001b[38;5;34m903\u001b[0m │\n",
       "└─────────────────────────────────┴────────────────────────┴───────────────┘\n"
      ]
     },
     "metadata": {},
     "output_type": "display_data"
    },
    {
     "data": {
      "text/html": [
       "<pre style=\"white-space:pre;overflow-x:auto;line-height:normal;font-family:Menlo,'DejaVu Sans Mono',consolas,'Courier New',monospace\"><span style=\"font-weight: bold\"> Total params: </span><span style=\"color: #00af00; text-decoration-color: #00af00\">12,508,055</span> (47.71 MB)\n",
       "</pre>\n"
      ],
      "text/plain": [
       "\u001b[1m Total params: \u001b[0m\u001b[38;5;34m12,508,055\u001b[0m (47.71 MB)\n"
      ]
     },
     "metadata": {},
     "output_type": "display_data"
    },
    {
     "data": {
      "text/html": [
       "<pre style=\"white-space:pre;overflow-x:auto;line-height:normal;font-family:Menlo,'DejaVu Sans Mono',consolas,'Courier New',monospace\"><span style=\"font-weight: bold\"> Trainable params: </span><span style=\"color: #00af00; text-decoration-color: #00af00\">4,169,351</span> (15.90 MB)\n",
       "</pre>\n"
      ],
      "text/plain": [
       "\u001b[1m Trainable params: \u001b[0m\u001b[38;5;34m4,169,351\u001b[0m (15.90 MB)\n"
      ]
     },
     "metadata": {},
     "output_type": "display_data"
    },
    {
     "data": {
      "text/html": [
       "<pre style=\"white-space:pre;overflow-x:auto;line-height:normal;font-family:Menlo,'DejaVu Sans Mono',consolas,'Courier New',monospace\"><span style=\"font-weight: bold\"> Non-trainable params: </span><span style=\"color: #00af00; text-decoration-color: #00af00\">0</span> (0.00 B)\n",
       "</pre>\n"
      ],
      "text/plain": [
       "\u001b[1m Non-trainable params: \u001b[0m\u001b[38;5;34m0\u001b[0m (0.00 B)\n"
      ]
     },
     "metadata": {},
     "output_type": "display_data"
    },
    {
     "data": {
      "text/html": [
       "<pre style=\"white-space:pre;overflow-x:auto;line-height:normal;font-family:Menlo,'DejaVu Sans Mono',consolas,'Courier New',monospace\"><span style=\"font-weight: bold\"> Optimizer params: </span><span style=\"color: #00af00; text-decoration-color: #00af00\">8,338,704</span> (31.81 MB)\n",
       "</pre>\n"
      ],
      "text/plain": [
       "\u001b[1m Optimizer params: \u001b[0m\u001b[38;5;34m8,338,704\u001b[0m (31.81 MB)\n"
      ]
     },
     "metadata": {},
     "output_type": "display_data"
    }
   ],
   "source": [
    "from keras.layers import Embedding, Dense, LSTM, Dropout, BatchNormalization\n",
    "from keras.models import Sequential\n",
    "from keras.losses import CategoricalCrossentropy\n",
    "from keras.utils import to_categorical\n",
    "from keras.callbacks import EarlyStopping, ModelCheckpoint\n",
    "from keras.regularizers import l2\n",
    "\n",
    "model = Sequential()\n",
    "model.add(Embedding(MAX_WORDS, embedding_dim, input_length=maxlen))\n",
    "model.add(Dropout(0.3))\n",
    "model.add(LSTM(128, kernel_regularizer=l2(0.01)))\n",
    "model.add(Dropout(0.4))\n",
    "model.add(Dense(num_classes, activation='softmax'))\n",
    "\n",
    "model.compile(optimizer='adam', loss='categorical_crossentropy', metrics=['accuracy'])\n",
    "early_stopping = EarlyStopping(monitor='val_loss', patience=4, verbose=1, mode='min', restore_best_weights=True)\n",
    "model_checkpoint = ModelCheckpoint('best_model.keras', monitor='val_loss', save_best_only=True, mode='min')\n",
    "\n",
    "\n",
    "history = model.fit(train_data, train_labels, epochs=10, batch_size=64, validation_data=(val_data, val_labels), class_weight=class_weights, callbacks=[early_stopping, model_checkpoint])\n",
    "\n",
    "test_loss, test_acc = model.evaluate(test_data, test_labels)\n",
    "print('Test accuracy: ', test_acc)\n",
    "model.summary()\n"
   ]
  },
  {
   "cell_type": "code",
   "execution_count": 33,
   "id": "849977e5-2c51-4d84-a10e-042a2f01529e",
   "metadata": {
    "tags": []
   },
   "outputs": [
    {
     "data": {
      "image/png": "[encoded data removed]",
      "text/plain": [
       "<Figure size 640x480 with 1 Axes>"
      ]
     },
     "metadata": {},
     "output_type": "display_data"
    },
    {
     "data": {
      "image/png": "[encoded data removed]",
      "text/plain": [
       "<Figure size 640x480 with 1 Axes>"
      ]
     },
     "metadata": {},
     "output_type": "display_data"
    }
   ],
   "source": [
    "acc = history.history['accuracy']\n",
    "val_acc = history.history['val_accuracy']\n",
    "loss = history.history['loss']\n",
    "val_loss = history.history['val_loss']\n",
    "\n",
    "epochs = range(1, len(acc) + 1)\n",
    "\n",
    "plt.plot(epochs, acc, 'y-', label='Training acc')\n",
    "plt.plot(epochs, val_acc, 'r-', label='Validation acc')\n",
    "plt.title('Training and validation accuracy with one LSTM')\n",
    "plt.legend()\n",
    "\n",
    "plt.figure()\n",
    "\n",
    "plt.plot(epochs, loss, 'y-', label='Training loss')\n",
    "plt.plot(epochs, val_loss, 'r-', label='Validation loss')\n",
    "plt.title('Training and validation loss with one LSTM')\n",
    "plt.legend()\n",
    "\n",
    "plt.show()"
   ]
  },
  {
   "cell_type": "code",
   "execution_count": 34,
   "id": "4068733e-2658-4110-b41f-b11b1ae48e28",
   "metadata": {
    "tags": []
   },
   "outputs": [
    {
     "name": "stdout",
     "output_type": "stream",
     "text": [
      "\u001b[1m1317/1317\u001b[0m \u001b[32m━━━━━━━━━━━━━━━━━━━━\u001b[0m\u001b[37m\u001b[0m \u001b[1m49s\u001b[0m 37ms/step\n",
      "              precision    recall  f1-score   support\n",
      "\n",
      "           0       0.95      0.93      0.94     13054\n",
      "           1       0.66      0.27      0.38     12342\n",
      "           2       0.47      0.75      0.58      8507\n",
      "           3       0.72      0.88      0.79      3103\n",
      "           4       0.89      0.78      0.83      2227\n",
      "           5       0.47      0.66      0.55      2066\n",
      "           6       0.34      0.87      0.48       845\n",
      "\n",
      "    accuracy                           0.67     42144\n",
      "   macro avg       0.64      0.73      0.65     42144\n",
      "weighted avg       0.71      0.67      0.66     42144\n",
      "\n",
      "[[12133    70    50   171    18   547    65]\n",
      " [  235  3337  7082   236   107   490   855]\n",
      " [  300  1552  6393    22    16   106   118]\n",
      " [   44    17     3  2729    29   247    34]\n",
      " [    7    15     2    30  1728   110   335]\n",
      " [    9    38     3   582    15  1365    54]\n",
      " [    2    14     4    12    34    42   737]]\n"
     ]
    }
   ],
   "source": [
    "predictions = model.predict(train_data)\n",
    "predicted_classes = np.argmax(predictions, axis=1)\n",
    "\n",
    "true_classes = np.argmax(train_labels, axis=1)\n",
    "\n",
    "print(classification_report(true_classes, predicted_classes))\n",
    "\n",
    "print(confusion_matrix(true_classes, predicted_classes))"
   ]
  },
  {
   "cell_type": "markdown",
   "id": "a44ab7eb-70b9-4392-a99b-0fa98b331429",
   "metadata": {},
   "source": [
    "    For the last model we kept the same neurons and the same dropouts but as we tested the l2 regulizer was messing the results in order to avoid overfittng. The performance is identicall to th eperformance of the model with 256 units as tested. The modle while havinf the weights and not the regulizer it is still overfitting after 5th epoch as we see from the results. from the overview metrics and the plot. Although the model according to the confusion matrix it seems to be in a more advanced level from before the weights not only because of the increased complexity but also from the weights that are used. while still trying to make it not overfit."
   ]
  },
  {
   "cell_type": "code",
   "execution_count": null,
   "id": "8b5a9272-7215-4af0-b7b4-9bae48c29800",
   "metadata": {
    "tags": []
   },
   "outputs": [
    {
     "name": "stdout",
     "output_type": "stream",
     "text": [
      "Epoch 1/10\n"
     ]
    },
    {
     "name": "stderr",
     "output_type": "stream",
     "text": [
      "/opt/anaconda3/envs/myenv/lib/python3.9/site-packages/keras/src/layers/core/embedding.py:90: UserWarning: Argument `input_length` is deprecated. Just remove it.\n",
      "  warnings.warn(\n"
     ]
    },
    {
     "name": "stdout",
     "output_type": "stream",
     "text": [
      "\u001b[1m257/659\u001b[0m \u001b[32m━━━━━━━\u001b[0m\u001b[37m━━━━━━━━━━━━━\u001b[0m \u001b[1m1:10\u001b[0m 175ms/step - accuracy: 0.2690 - loss: 1.9170"
     ]
    }
   ],
   "source": [
    "model = Sequential()\n",
    "model.add(Embedding(MAX_WORDS, embedding_dim, input_length=maxlen))\n",
    "model.add(Dropout(0.3))\n",
    "model.add(LSTM(128))\n",
    "model.add(Dropout(0.4))\n",
    "model.add(Dense(num_classes, activation='softmax'))\n",
    "\n",
    "model.compile(optimizer='adam', loss='categorical_crossentropy', metrics=['accuracy'])\n",
    "early_stopping = EarlyStopping(monitor='val_loss', patience=4, verbose=1, mode='min', restore_best_weights=True)\n",
    "model_checkpoint = ModelCheckpoint('best_model.keras', monitor='val_loss', save_best_only=True, mode='min')\n",
    "\n",
    "\n",
    "history = model.fit(train_data, train_labels, epochs=10, batch_size=64, validation_data=(val_data, val_labels), class_weight=class_weights, callbacks=[early_stopping, model_checkpoint])\n",
    "\n",
    "test_loss, test_acc = model.evaluate(test_data, test_labels)\n",
    "print('Test accuracy: ', test_acc)\n",
    "model.summary()"
   ]
  },
  {
   "cell_type": "code",
   "execution_count": null,
   "id": "dd0dfe07-d74e-4325-80a1-bab9a91d0f08",
   "metadata": {},
   "outputs": [],
   "source": [
    "acc = history.history['accuracy']\n",
    "val_acc = history.history['val_accuracy']\n",
    "loss = history.history['loss']\n",
    "val_loss = history.history['val_loss']\n",
    "\n",
    "epochs = range(1, len(acc) + 1)\n",
    "\n",
    "plt.plot(epochs, acc, 'y-', label='Training acc')\n",
    "plt.plot(epochs, val_acc, 'r-', label='Validation acc')\n",
    "plt.title('Training and validation accuracy with one LSTM')\n",
    "plt.legend()\n",
    "\n",
    "plt.figure()\n",
    "\n",
    "plt.plot(epochs, loss, 'y-', label='Training loss')\n",
    "plt.plot(epochs, val_loss, 'r-', label='Validation loss')\n",
    "plt.title('Training and validation loss with one LSTM')\n",
    "plt.legend()\n",
    "\n",
    "plt.show()"
   ]
  },
  {
   "cell_type": "code",
   "execution_count": null,
   "id": "c3f849da-8ee6-4a5d-a607-82e27c4f6f69",
   "metadata": {
    "tags": []
   },
   "outputs": [],
   "source": [
    "predictions = model.predict(train_data)\n",
    "predicted_classes = np.argmax(predictions, axis=1)\n",
    "\n",
    "true_classes = np.argmax(train_labels, axis=1)\n",
    "\n",
    "print(classification_report(true_classes, predicted_classes))\n",
    "\n",
    "print(confusion_matrix(true_classes, predicted_classes))"
   ]
  },
  {
   "cell_type": "markdown",
   "id": "f2bcb49b-a327-4050-8093-af791a755da4",
   "metadata": {},
   "source": [
    "## Conclusion"
   ]
  },
  {
   "cell_type": "markdown",
   "id": "718bcaf4-4e6c-4b3c-b3d6-a9164e2ac852",
   "metadata": {},
   "source": [
    "While trying to figure out what is going on and how can we not have overfitting but good results, I tried almost every single solution that i was capable of and fugured out or knew. The worst performance that the model had was with the hybrid-sampling in both classification report and the model metrics. The most remarkable of the case and really suspitious is that the best Accuracy score that the model had while overfitting of course was wit oversampling at 64 units and not with a strategy created byme, but with minority strategy. The model was able to reach the 0.91 in accuracy while retaning all the prices higher than expected, given that SMOTE minority is actually a strategy given for imbalanced datasets for binary classification. \n",
    "\n",
    "Given the cirqumstances for the dataset, the combination of both good metrics and accuracy wasn't applicable and the frustration was growing, there where pages like the following two, who gave me hope."
   ]
  },
  {
   "cell_type": "code",
   "execution_count": null,
   "id": "469265ef-65a2-4325-a21e-97d62f250fc5",
   "metadata": {},
   "outputs": [],
   "source": []
  }
 ],
 "metadata": {
  "kernelspec": {
   "display_name": "Python 3 (ipykernel)",
   "language": "python",
   "name": "python3"
  },
  "language_info": {
   "codemirror_mode": {
    "name": "ipython",
    "version": 3
   },
   "file_extension": ".py",
   "mimetype": "text/x-python",
   "name": "python",
   "nbconvert_exporter": "python",
   "pygments_lexer": "ipython3",
   "version": "3.9.19"
  }
 },
 "nbformat": 4,
 "nbformat_minor": 5
}
